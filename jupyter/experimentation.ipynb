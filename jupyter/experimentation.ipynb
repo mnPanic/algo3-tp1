{
 "cells": [
  {
   "cell_type": "markdown",
   "metadata": {},
   "source": [
    "# Experimentación\n",
    "\n",
    "En este notebook corremos los experimentos descritos en el informe"
   ]
  },
  {
   "cell_type": "code",
   "execution_count": 17,
   "metadata": {},
   "outputs": [],
   "source": [
    "import subprocess\n",
    "\n",
    "ALGORITHMS = [\n",
    "    #\"BT-F\",\n",
    "    \"BT-O\",\n",
    "    #\"BT\",\n",
    "    #\"DP\",\n",
    "    #\"FB\",\n",
    "]\n",
    "\n",
    "def run(algorithm: str, instance_path: str) -> (int, float):\n",
    "    \"\"\"Corre el programa para la instancia dada y devuelve (resultado, tiempo de ejecucion).\"\"\"\n",
    "    result = subprocess.run(\n",
    "        f\"../build/npm {algorithm} < {instance_path}\",\n",
    "        shell=True, capture_output=True, text=True, check=True,\n",
    "    )\n",
    "\n",
    "    return int(result.stdout), float(result.stderr)"
   ]
  },
  {
   "cell_type": "code",
   "execution_count": 18,
   "metadata": {},
   "outputs": [],
   "source": [
    "from typing import List\n",
    "\n",
    "def get_instances(dataset: str) -> List[str]:\n",
    "    \"\"\"Para cada dataset devuelve la lista de instancias correspondientes con el path completo\"\"\"\n",
    "    instances = os.listdir(f\"instancias/{dataset}\")\n",
    "    return list(filter(\n",
    "        lambda i: i.endswith(\".in\"),\n",
    "        map(lambda i: f\"instancias/{dataset}/\"+i, instances),\n",
    "    ))\n"
   ]
  },
  {
   "cell_type": "code",
   "execution_count": 19,
   "metadata": {},
   "outputs": [],
   "source": [
    "def run_instance(rows: list, dataset: str):\n",
    "    \"\"\"\n",
    "    Corre una instancia para todos los algoritmos, llenando por referencia\n",
    "    la lista de rows. Lanza una excepcion si para alguna instancia los\n",
    "    resultados de todos los algoritmos no coinciden.\n",
    "    \"\"\"\n",
    "    for instance in tqdm(get_instances(dataset), \"instancias\"):\n",
    "        results = []\n",
    "        for alg in ALGORITHMS:\n",
    "            res, t = run(alg, instance)\n",
    "            rows.append({\n",
    "                \"dataset\": dataset,\n",
    "                \"algorithm\": alg,\n",
    "                \"time_ms\": t,\n",
    "                \"instance\": instance,\n",
    "            })\n",
    "\n",
    "            results.append(res)\n",
    "\n",
    "        if not np.alltrue([results[0] == res for res in results]):\n",
    "            raise f\"Ojo que con la instancia {instance} no dieron todos iguales\""
   ]
  },
  {
   "cell_type": "markdown",
   "metadata": {},
   "source": [
    "## Experimento 1 - Control"
   ]
  },
  {
   "cell_type": "code",
   "execution_count": 28,
   "metadata": {},
   "outputs": [
    {
     "name": "stderr",
     "output_type": "stream",
     "text": [
      "instancias: 100%|██████████| 20/20 [00:01<00:00, 17.09it/s]\n",
      "instancias: 100%|██████████| 20/20 [00:01<00:00, 17.09it/s]\n",
      "instancias: 100%|██████████| 20/20 [00:01<00:00, 17.32it/s]\n",
      "instancias: 100%|██████████| 20/20 [00:01<00:00, 17.50it/s]\n",
      "instancias: 100%|██████████| 20/20 [00:01<00:00, 17.26it/s]\n",
      "instancias: 100%|██████████| 20/20 [00:01<00:00, 17.02it/s]\n",
      "instancias: 100%|██████████| 20/20 [00:01<00:00, 17.09it/s]\n",
      "instancias: 100%|██████████| 20/20 [00:01<00:00, 17.18it/s]\n",
      "instancias: 100%|██████████| 20/20 [00:01<00:00, 17.07it/s]\n",
      "instancias: 100%|██████████| 20/20 [00:01<00:00, 17.28it/s]"
     ]
    },
    {
     "name": "stdout",
     "output_type": "stream",
     "text": [
      "Finished!\n"
     ]
    },
    {
     "name": "stderr",
     "output_type": "stream",
     "text": [
      "\n"
     ]
    }
   ],
   "source": [
    "import os\n",
    "import numpy as np\n",
    "import pandas as pd\n",
    "\n",
    "from tqdm import tqdm\n",
    "\n",
    "rows = []\n",
    "\n",
    "datasets = [\n",
    "    #\"control\", # Experimento 1 - Control\n",
    "    #\"grupos\",   # Experimento 2 - Solapamiento por grupos\n",
    "    #\"identicos\", # Experimento 3 - Todas instancias identicas\n",
    "    \"one-to-rule\" # Experimento 4 - One tu rul dem ol\n",
    "]\n",
    "\n",
    "REPETICIONES = 10\n",
    "\n",
    "for d in datasets:\n",
    "    for _ in range(REPETICIONES):\n",
    "        run_instance(rows, d)\n",
    "\n",
    "df_results = pd.DataFrame(rows, columns=[\"dataset\", \"algorithm\", \"time_ms\", \"instance\"])\n",
    "print(\"Finished!\")"
   ]
  },
  {
   "cell_type": "code",
   "execution_count": 27,
   "metadata": {},
   "outputs": [
    {
     "data": {
      "text/html": [
       "<div>\n",
       "<style scoped>\n",
       "    .dataframe tbody tr th:only-of-type {\n",
       "        vertical-align: middle;\n",
       "    }\n",
       "\n",
       "    .dataframe tbody tr th {\n",
       "        vertical-align: top;\n",
       "    }\n",
       "\n",
       "    .dataframe thead th {\n",
       "        text-align: right;\n",
       "    }\n",
       "</style>\n",
       "<table border=\"1\" class=\"dataframe\">\n",
       "  <thead>\n",
       "    <tr style=\"text-align: right;\">\n",
       "      <th></th>\n",
       "      <th>dataset</th>\n",
       "      <th>algorithm</th>\n",
       "      <th>time_ms</th>\n",
       "      <th>instance</th>\n",
       "      <th>pos</th>\n",
       "    </tr>\n",
       "  </thead>\n",
       "  <tbody>\n",
       "    <tr>\n",
       "      <th>0</th>\n",
       "      <td>one-to-rule</td>\n",
       "      <td>BT-O</td>\n",
       "      <td>51.2932</td>\n",
       "      <td>instancias/one-to-rule/2.in</td>\n",
       "      <td></td>\n",
       "    </tr>\n",
       "    <tr>\n",
       "      <th>1</th>\n",
       "      <td>one-to-rule</td>\n",
       "      <td>BT-O</td>\n",
       "      <td>47.3113</td>\n",
       "      <td>instancias/one-to-rule/pos_16.in</td>\n",
       "      <td>16</td>\n",
       "    </tr>\n",
       "    <tr>\n",
       "      <th>2</th>\n",
       "      <td>one-to-rule</td>\n",
       "      <td>BT-O</td>\n",
       "      <td>47.3158</td>\n",
       "      <td>instancias/one-to-rule/3.in</td>\n",
       "      <td></td>\n",
       "    </tr>\n",
       "    <tr>\n",
       "      <th>3</th>\n",
       "      <td>one-to-rule</td>\n",
       "      <td>BT-O</td>\n",
       "      <td>43.5779</td>\n",
       "      <td>instancias/one-to-rule/14.in</td>\n",
       "      <td>n</td>\n",
       "    </tr>\n",
       "    <tr>\n",
       "      <th>4</th>\n",
       "      <td>one-to-rule</td>\n",
       "      <td>BT-O</td>\n",
       "      <td>45.4797</td>\n",
       "      <td>instancias/one-to-rule/pos_13.in</td>\n",
       "      <td>13</td>\n",
       "    </tr>\n",
       "  </tbody>\n",
       "</table>\n",
       "</div>"
      ],
      "text/plain": [
       "       dataset algorithm  time_ms                          instance pos\n",
       "0  one-to-rule      BT-O  51.2932       instancias/one-to-rule/2.in    \n",
       "1  one-to-rule      BT-O  47.3113  instancias/one-to-rule/pos_16.in  16\n",
       "2  one-to-rule      BT-O  47.3158       instancias/one-to-rule/3.in    \n",
       "3  one-to-rule      BT-O  43.5779      instancias/one-to-rule/14.in   n\n",
       "4  one-to-rule      BT-O  45.4797  instancias/one-to-rule/pos_13.in  13"
      ]
     },
     "execution_count": 27,
     "metadata": {},
     "output_type": "execute_result"
    }
   ],
   "source": []
  },
  {
   "cell_type": "code",
   "execution_count": 23,
   "metadata": {},
   "outputs": [
    {
     "data": {
      "text/plain": [
       "<AxesSubplot:xlabel='algorithm', ylabel='time_ms'>"
      ]
     },
     "execution_count": 23,
     "metadata": {},
     "output_type": "execute_result"
    },
    {
     "data": {
      "image/png": "[encoded data removed]",
      "text/plain": [
       "<Figure size 432x288 with 1 Axes>"
      ]
     },
     "metadata": {
      "needs_background": "light"
     },
     "output_type": "display_data"
    }
   ],
   "source": [
    "import seaborn as sns\n",
    "\n",
    "sns.boxplot(data=df_results, y=\"time_ms\", x=\"algorithm\")"
   ]
  },
  {
   "cell_type": "code",
   "execution_count": 29,
   "metadata": {},
   "outputs": [],
   "source": [
    "# instancias/grupos/6-grupos_1.in\n",
    "#df_results[\"grupo\"] = df_results[\"instance\"].map(lambda r: r.split(\"/\")[2][0])\n",
    "# instancias/one-to-rule/pos_i.in\n",
    "df_results[\"pos\"] = df_results[\"instance\"].map(lambda r: int(r.split(\"/\")[2][4:].split('.')[0]))"
   ]
  },
  {
   "cell_type": "code",
   "execution_count": 30,
   "metadata": {},
   "outputs": [
    {
     "data": {
      "text/html": [
       "<div>\n",
       "<style scoped>\n",
       "    .dataframe tbody tr th:only-of-type {\n",
       "        vertical-align: middle;\n",
       "    }\n",
       "\n",
       "    .dataframe tbody tr th {\n",
       "        vertical-align: top;\n",
       "    }\n",
       "\n",
       "    .dataframe thead th {\n",
       "        text-align: right;\n",
       "    }\n",
       "</style>\n",
       "<table border=\"1\" class=\"dataframe\">\n",
       "  <thead>\n",
       "    <tr style=\"text-align: right;\">\n",
       "      <th></th>\n",
       "      <th>dataset</th>\n",
       "      <th>algorithm</th>\n",
       "      <th>time_ms</th>\n",
       "      <th>instance</th>\n",
       "      <th>pos</th>\n",
       "    </tr>\n",
       "  </thead>\n",
       "  <tbody>\n",
       "    <tr>\n",
       "      <th>0</th>\n",
       "      <td>one-to-rule</td>\n",
       "      <td>BT-O</td>\n",
       "      <td>47.5266</td>\n",
       "      <td>instancias/one-to-rule/pos_16.in</td>\n",
       "      <td>16</td>\n",
       "    </tr>\n",
       "    <tr>\n",
       "      <th>1</th>\n",
       "      <td>one-to-rule</td>\n",
       "      <td>BT-O</td>\n",
       "      <td>44.6092</td>\n",
       "      <td>instancias/one-to-rule/pos_13.in</td>\n",
       "      <td>13</td>\n",
       "    </tr>\n",
       "    <tr>\n",
       "      <th>2</th>\n",
       "      <td>one-to-rule</td>\n",
       "      <td>BT-O</td>\n",
       "      <td>54.7605</td>\n",
       "      <td>instancias/one-to-rule/pos_17.in</td>\n",
       "      <td>17</td>\n",
       "    </tr>\n",
       "    <tr>\n",
       "      <th>3</th>\n",
       "      <td>one-to-rule</td>\n",
       "      <td>BT-O</td>\n",
       "      <td>43.1216</td>\n",
       "      <td>instancias/one-to-rule/pos_10.in</td>\n",
       "      <td>10</td>\n",
       "    </tr>\n",
       "    <tr>\n",
       "      <th>4</th>\n",
       "      <td>one-to-rule</td>\n",
       "      <td>BT-O</td>\n",
       "      <td>43.6970</td>\n",
       "      <td>instancias/one-to-rule/pos_11.in</td>\n",
       "      <td>11</td>\n",
       "    </tr>\n",
       "    <tr>\n",
       "      <th>...</th>\n",
       "      <td>...</td>\n",
       "      <td>...</td>\n",
       "      <td>...</td>\n",
       "      <td>...</td>\n",
       "      <td>...</td>\n",
       "    </tr>\n",
       "    <tr>\n",
       "      <th>195</th>\n",
       "      <td>one-to-rule</td>\n",
       "      <td>BT-O</td>\n",
       "      <td>53.7698</td>\n",
       "      <td>instancias/one-to-rule/pos_1.in</td>\n",
       "      <td>1</td>\n",
       "    </tr>\n",
       "    <tr>\n",
       "      <th>196</th>\n",
       "      <td>one-to-rule</td>\n",
       "      <td>BT-O</td>\n",
       "      <td>46.6934</td>\n",
       "      <td>instancias/one-to-rule/pos_3.in</td>\n",
       "      <td>3</td>\n",
       "    </tr>\n",
       "    <tr>\n",
       "      <th>197</th>\n",
       "      <td>one-to-rule</td>\n",
       "      <td>BT-O</td>\n",
       "      <td>53.4060</td>\n",
       "      <td>instancias/one-to-rule/pos_0.in</td>\n",
       "      <td>0</td>\n",
       "    </tr>\n",
       "    <tr>\n",
       "      <th>198</th>\n",
       "      <td>one-to-rule</td>\n",
       "      <td>BT-O</td>\n",
       "      <td>83.1587</td>\n",
       "      <td>instancias/one-to-rule/pos_19.in</td>\n",
       "      <td>19</td>\n",
       "    </tr>\n",
       "    <tr>\n",
       "      <th>199</th>\n",
       "      <td>one-to-rule</td>\n",
       "      <td>BT-O</td>\n",
       "      <td>62.5851</td>\n",
       "      <td>instancias/one-to-rule/pos_18.in</td>\n",
       "      <td>18</td>\n",
       "    </tr>\n",
       "  </tbody>\n",
       "</table>\n",
       "<p>200 rows × 5 columns</p>\n",
       "</div>"
      ],
      "text/plain": [
       "         dataset algorithm  time_ms                          instance  pos\n",
       "0    one-to-rule      BT-O  47.5266  instancias/one-to-rule/pos_16.in   16\n",
       "1    one-to-rule      BT-O  44.6092  instancias/one-to-rule/pos_13.in   13\n",
       "2    one-to-rule      BT-O  54.7605  instancias/one-to-rule/pos_17.in   17\n",
       "3    one-to-rule      BT-O  43.1216  instancias/one-to-rule/pos_10.in   10\n",
       "4    one-to-rule      BT-O  43.6970  instancias/one-to-rule/pos_11.in   11\n",
       "..           ...       ...      ...                               ...  ...\n",
       "195  one-to-rule      BT-O  53.7698   instancias/one-to-rule/pos_1.in    1\n",
       "196  one-to-rule      BT-O  46.6934   instancias/one-to-rule/pos_3.in    3\n",
       "197  one-to-rule      BT-O  53.4060   instancias/one-to-rule/pos_0.in    0\n",
       "198  one-to-rule      BT-O  83.1587  instancias/one-to-rule/pos_19.in   19\n",
       "199  one-to-rule      BT-O  62.5851  instancias/one-to-rule/pos_18.in   18\n",
       "\n",
       "[200 rows x 5 columns]"
      ]
     },
     "execution_count": 30,
     "metadata": {},
     "output_type": "execute_result"
    }
   ],
   "source": [
    "df_results"
   ]
  },
  {
   "cell_type": "code",
   "execution_count": 59,
   "metadata": {},
   "outputs": [
    {
     "data": {
      "text/plain": [
       "<AxesSubplot:xlabel='grupo', ylabel='time_ms'>"
      ]
     },
     "execution_count": 59,
     "metadata": {},
     "output_type": "execute_result"
    },
    {
     "data": {
      "image/png": "[encoded data removed]",
      "text/plain": [
       "<Figure size 432x288 with 1 Axes>"
      ]
     },
     "metadata": {
      "needs_background": "light"
     },
     "output_type": "display_data"
    }
   ],
   "source": [
    "sns.boxplot(data=df_results.sort_values(\"grupo\"), x=\"grupo\", y=\"time_ms\")"
   ]
  },
  {
   "cell_type": "code",
   "execution_count": 31,
   "metadata": {},
   "outputs": [
    {
     "data": {
      "text/plain": [
       "<AxesSubplot:xlabel='pos', ylabel='time_ms'>"
      ]
     },
     "execution_count": 31,
     "metadata": {},
     "output_type": "execute_result"
    },
    {
     "data": {
      "image/png": "[encoded data removed]",
      "text/plain": [
       "<Figure size 432x288 with 1 Axes>"
      ]
     },
     "metadata": {
      "needs_background": "light"
     },
     "output_type": "display_data"
    }
   ],
   "source": [
    "sns.boxplot(data=df_results.sort_values(\"pos\"), x=\"pos\", y=\"time_ms\")\n",
    "# tiene sentido que el ultimo tarde mas porque recorre primero todo, y despues chequea la opt, que es lo mismo que NADA"
   ]
  },
  {
   "cell_type": "code",
   "execution_count": null,
   "metadata": {},
   "outputs": [],
   "source": []
  }
 ],
 "metadata": {
  "kernelspec": {
   "display_name": "Python 3",
   "language": "python",
   "name": "python3"
  },
  "language_info": {
   "codemirror_mode": {
    "name": "ipython",
    "version": 3
   },
   "file_extension": ".py",
   "mimetype": "text/x-python",
   "name": "python",
   "nbconvert_exporter": "python",
   "pygments_lexer": "ipython3",
   "version": "3.7.5"
  }
 },
 "nbformat": 4,
 "nbformat_minor": 4
}
