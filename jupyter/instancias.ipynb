{
 "cells": [
  {
   "cell_type": "markdown",
   "metadata": {},
   "source": [
    "# Generacion de instancias"
   ]
  },
  {
   "cell_type": "code",
   "execution_count": 18,
   "metadata": {},
   "outputs": [
    {
     "name": "stdout",
     "output_type": "stream",
     "text": [
      "The autoreload extension is already loaded. To reload it, use:\n",
      "  %reload_ext autoreload\n"
     ]
    }
   ],
   "source": [
    "%load_ext autoreload\n",
    "%autoreload 2"
   ]
  },
  {
   "cell_type": "code",
   "execution_count": 19,
   "metadata": {},
   "outputs": [],
   "source": [
    "DEBUG = False\n",
    "LOCALES = 25\n",
    "INSTANCIAS = 10"
   ]
  },
  {
   "cell_type": "code",
   "execution_count": 20,
   "metadata": {},
   "outputs": [],
   "source": [
    "import os\n",
    "\n",
    "from typing import List\n",
    "from typing import Tuple\n",
    "\n",
    "Local = Tuple[int, int]\n",
    "def save_instance(dataset: str, instance: str, M: int, locales: List[Local]):\n",
    "    \"\"\"\n",
    "    Guarda una instancia con el formato\n",
    "\n",
    "        n M\n",
    "        b_1 c_1\n",
    "        .\n",
    "        .\n",
    "        .\n",
    "        b_n c_n\n",
    "\n",
    "    Las instancias son tuplas (b_i, c_i)\n",
    "    \"\"\"\n",
    "\n",
    "    # exist_ok para que no falle si ya existe\n",
    "    os.makedirs(f\"instancias/{dataset}\", exist_ok=True)\n",
    "\n",
    "    if DEBUG: print(\"Escribiendo instancia\", f\"{os.getcwd()}/instancias/{dataset}/{instance}.in\")\n",
    "    with open(f\"instancias/{dataset}/{instance}.in\", \"w\") as f:\n",
    "        print(len(locales), M, file=f)\n",
    "        for local in locales:\n",
    "            print(local[0], local[1], file=f)"
   ]
  },
  {
   "cell_type": "markdown",
   "metadata": {},
   "source": [
    "## Control\n",
    "\n",
    "Instancias generadas de forma aleatoria"
   ]
  },
  {
   "cell_type": "code",
   "execution_count": 21,
   "metadata": {},
   "outputs": [],
   "source": [
    "from typing import Tuple, List\n",
    "Instance = Tuple[int, List[Local]]"
   ]
  },
  {
   "cell_type": "code",
   "execution_count": 22,
   "metadata": {},
   "outputs": [],
   "source": [
    "import numpy as np\n",
    "\n",
    "def randrange(r, n):\n",
    "    return np.random.randint(low=r[0], high=r[1], size=n)\n",
    "\n",
    "# rangos\n",
    "CONTAGIO = (10, 100)\n",
    "BENEFICIO = (10, 100)\n",
    "LOCALES = 25    # cantidad de locales\n",
    "M = 1000  # Una posibilidad es randomizar el M para que sea una instancia realmente de control\n",
    "\n",
    "def randinst() -> Instance:\n",
    "    locales = zip(\n",
    "        randrange(BENEFICIO, LOCALES),\n",
    "        randrange(CONTAGIO, LOCALES),\n",
    "    )\n",
    "\n",
    "    return M, list(locales)\n",
    "    "
   ]
  },
  {
   "cell_type": "code",
   "execution_count": 23,
   "metadata": {},
   "outputs": [],
   "source": [
    "for i in range(INSTANCIAS):\n",
    "    m, locales = randinst()\n",
    "    save_instance(dataset=\"control\", instance=str(i), M=m, locales=locales)"
   ]
  },
  {
   "cell_type": "markdown",
   "metadata": {},
   "source": [
    "## Grupos - Solapamiento"
   ]
  },
  {
   "cell_type": "code",
   "execution_count": 24,
   "metadata": {},
   "outputs": [],
   "source": [
    "BENEFICIO = (10, 50)\n",
    "\n",
    "def group_instance(cant_grupos: int) -> Instance:\n",
    "    locales = []\n",
    "    for l in range(LOCALES):\n",
    "        c = (l % cant_grupos + 1)\n",
    "        b = randrange(BENEFICIO, 1)[0]\n",
    "        locales.append((b, c))\n",
    "\n",
    "    return 250, locales\n",
    "    "
   ]
  },
  {
   "cell_type": "code",
   "execution_count": 25,
   "metadata": {},
   "outputs": [],
   "source": [
    "import random\n",
    "\n",
    "for n in range(1, LOCALES+1):\n",
    "    # hay una cantidad de grupos n determinada para cada instancia\n",
    "    for i in range(INSTANCIAS):\n",
    "        m, locales = group_instance(n)\n",
    "        save_instance(\"grupos\", f\"{n}-grupos_{i}\", m, locales)\n",
    "    "
   ]
  },
  {
   "cell_type": "markdown",
   "metadata": {},
   "source": [
    "## One tu rule dem ol"
   ]
  },
  {
   "cell_type": "code",
   "execution_count": 26,
   "metadata": {},
   "outputs": [],
   "source": [
    "BEN = 10 # ben 10\n",
    "CONT = 10\n",
    "BEN_DISTINGUIDO = BEN*LOCALES\n",
    "M = int(CONT * LOCALES / 2)\n",
    "\n",
    "for i in range(INSTANCIAS*2):\n",
    "    locales = [ (BEN, CONT) for _ in range(LOCALES) ]\n",
    "    locales[i] = (BEN_DISTINGUIDO, CONT)\n",
    "    save_instance(\"one-to-rule\", \"pos_\"+str(i), M, locales)\n"
   ]
  },
  {
   "cell_type": "markdown",
   "metadata": {},
   "source": [
    "### ¿En qué lugar lo ponemos?"
   ]
  },
  {
   "cell_type": "markdown",
   "metadata": {},
   "source": [
    "- Podemos variar el lugar en que se coloca el local distinguido."
   ]
  },
  {
   "cell_type": "markdown",
   "metadata": {},
   "source": [
    "## Identicos"
   ]
  },
  {
   "cell_type": "code",
   "execution_count": 27,
   "metadata": {},
   "outputs": [],
   "source": [
    "BEN = 10\n",
    "CONT = 10\n",
    "M = int(CONT * LOCALES / 2)\n",
    "\n",
    "for i in range(INSTANCIAS):\n",
    "    locales = [ (BEN, CONT) for _ in range(LOCALES) ]\n",
    "    save_instance(\"identicos\", str(i), M, locales)\n"
   ]
  },
  {
   "cell_type": "markdown",
   "metadata": {},
   "source": [
    "## Factibilidad"
   ]
  },
  {
   "cell_type": "code",
   "execution_count": 28,
   "metadata": {},
   "outputs": [],
   "source": [
    "BENEFICIO = (10,50)\n",
    "CONTAGIO = (50,100)\n",
    "M = 200\n",
    "\n",
    "def fact_instances() -> Instance:\n",
    "    locales = zip(\n",
    "        randrange(BENEFICIO, LOCALES),\n",
    "        randrange(CONTAGIO, LOCALES),\n",
    "    )\n",
    "\n",
    "    return M, list(locales)\n",
    "    "
   ]
  },
  {
   "cell_type": "code",
   "execution_count": 29,
   "metadata": {},
   "outputs": [],
   "source": [
    "for i in range(INSTANCIAS):\n",
    "    m, locales = fact_instances()\n",
    "    save_instance(\"low-M\", str(i), m, locales)\n",
    "    "
   ]
  },
  {
   "cell_type": "markdown",
   "metadata": {},
   "source": [
    "## Caché en PD"
   ]
  },
  {
   "cell_type": "code",
   "execution_count": 30,
   "metadata": {},
   "outputs": [],
   "source": [
    "BENEFICIO = (10,50)\n",
    "CONTAGIO = (10,500)\n",
    "\n",
    "def cache_locals() -> List[Local]:\n",
    "    locales = zip(\n",
    "        randrange(BENEFICIO, LOCALES),\n",
    "        randrange(CONTAGIO, LOCALES),\n",
    "    )\n",
    "\n",
    "    return list(locales)"
   ]
  },
  {
   "cell_type": "code",
   "execution_count": 31,
   "metadata": {},
   "outputs": [],
   "source": [
    "# Lo importante de esta experimentación es que no exista solapamiento entre los llamados a la memoria para que se utilicen\n",
    "# diferentes regiones de la tabla y esto lleve a que se termine desalojando de a una página de memoria (idealmente)  \n",
    "\n",
    "M = range(1000, 5000, 1000)\n",
    "\n",
    "for m in M:\n",
    "    for i in range(INSTANCIAS):\n",
    "        save_instance(\"cache\", f\"{m}-{i}\", m, cache_locals())"
   ]
  },
  {
   "cell_type": "markdown",
   "metadata": {},
   "source": [
    "## Instancias con N variable"
   ]
  },
  {
   "cell_type": "code",
   "execution_count": 32,
   "metadata": {},
   "outputs": [],
   "source": [
    "N = range(5,35,5) # n de 5, 10, 15, 20, 25 y 30\n",
    "BENEFICIO = (10,100)\n",
    "CONTAGIO = (10,100)\n",
    "\n",
    "def n_instance(n: int) -> Instance:\n",
    "    locales = zip (\n",
    "        randrange(BENEFICIO, n),\n",
    "        randrange(CONTAGIO, n),\n",
    "    )\n",
    "    # El M devuelto se obtiene de calcula la media esperada de beneficio (50) dividido dos (2) debido a que se espera que como máximo podemos poner la mitad de los locales\n",
    "    return n*25, list(locales)\n",
    "\n",
    "for n in N:\n",
    "    for i in range(3): # 3 porque sí, algún problema?\n",
    "        m, locales = n_instance(n)\n",
    "        save_instance(\"n-variable\", f\"{n}-{i}\", m, locales)\n"
   ]
  },
  {
   "cell_type": "markdown",
   "metadata": {},
   "source": [
    "## Programación Dinámica"
   ]
  },
  {
   "cell_type": "code",
   "execution_count": 17,
   "metadata": {},
   "outputs": [],
   "source": [
    "N = range(50, 1050, 50)\n",
    "M = range(50, 1050, 50)\n",
    "BENEFICIO = (1, 10)\n",
    "CONTAGIO = (1, 10)\n",
    "\n",
    "def randinst(n: int) -> List[Local]:\n",
    "    locales = zip(\n",
    "        randrange(BENEFICIO, n),\n",
    "        randrange(CONTAGIO, n),\n",
    "    )\n",
    "\n",
    "    return list(locales)\n",
    "\n",
    "for m in M:\n",
    "    for n in N:\n",
    "        for i in range(3):\n",
    "            save_instance(\"complejidad-DP\", f\"{m}-{n}-{i}\", m, randinst(n))"
   ]
  },
  {
   "cell_type": "code",
   "execution_count": null,
   "metadata": {},
   "outputs": [],
   "source": []
  }
 ],
 "metadata": {
  "kernelspec": {
   "display_name": "Python 3",
   "language": "python",
   "name": "python3"
  },
  "language_info": {
   "codemirror_mode": {
    "name": "ipython",
    "version": 3
   },
   "file_extension": ".py",
   "mimetype": "text/x-python",
   "name": "python",
   "nbconvert_exporter": "python",
   "pygments_lexer": "ipython3",
   "version": "3.8.5"
  }
 },
 "nbformat": 4,
 "nbformat_minor": 4
}
