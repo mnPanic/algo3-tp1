{
 "cells": [
  {
   "cell_type": "markdown",
   "metadata": {},
   "source": [
    "# Generacion de instancias"
   ]
  },
  {
   "cell_type": "code",
   "execution_count": 17,
   "metadata": {},
   "outputs": [
    {
     "name": "stdout",
     "output_type": "stream",
     "text": [
      "The autoreload extension is already loaded. To reload it, use:\n",
      "  %reload_ext autoreload\n"
     ]
    }
   ],
   "source": [
    "%load_ext autoreload\n",
    "%autoreload 2"
   ]
  },
  {
   "cell_type": "code",
   "execution_count": 33,
   "metadata": {},
   "outputs": [],
   "source": [
    "DEBUG = False\n",
    "LOCALES = range(5, 26) # [5, 25]\n",
    "INSTANCIAS = 3"
   ]
  },
  {
   "cell_type": "code",
   "execution_count": 19,
   "metadata": {},
   "outputs": [],
   "source": [
    "import os\n",
    "\n",
    "from typing import List\n",
    "from typing import Tuple\n",
    "\n",
    "Local = Tuple[int, int]\n",
    "def save_instance(dataset: str, instance: str, M: int, locales: List[Local]):\n",
    "    \"\"\"\n",
    "    Guarda una instancia con el formato\n",
    "\n",
    "        n M\n",
    "        b_1 c_1\n",
    "        .\n",
    "        .\n",
    "        .\n",
    "        b_n c_n\n",
    "\n",
    "    Las instancias son tuplas (b_i, c_i)\n",
    "    \"\"\"\n",
    "\n",
    "    # exist_ok para que no falle si ya existe\n",
    "    os.makedirs(f\"instancias/{dataset}\", exist_ok=True)\n",
    "\n",
    "    if DEBUG: print(\"Escribiendo instancia\", f\"{os.getcwd()}/instancias/{dataset}/{instance}.in\")\n",
    "    with open(f\"instancias/{dataset}/{instance}.in\", \"w\") as f:\n",
    "        print(len(locales), M, file=f)\n",
    "        for local in locales:\n",
    "            print(local[0], local[1], file=f)"
   ]
  },
  {
   "cell_type": "code",
   "execution_count": 20,
   "metadata": {},
   "outputs": [],
   "source": [
    "def filename(**kwargs) -> str:\n",
    "    # 'n-20_i-20_grupo-10_M-20'\n",
    "    name = \"\"\n",
    "    for arg, value in kwargs.items():\n",
    "        name += f\"{arg}_{value}-\"\n",
    "    \n",
    "    return name[:-1]"
   ]
  },
  {
   "cell_type": "markdown",
   "metadata": {},
   "source": [
    "## Control\n",
    "\n",
    "Instancias generadas de forma aleatoria"
   ]
  },
  {
   "cell_type": "code",
   "execution_count": 21,
   "metadata": {},
   "outputs": [],
   "source": [
    "from typing import Tuple, List\n",
    "Instance = Tuple[int, List[Local]]"
   ]
  },
  {
   "cell_type": "code",
   "execution_count": 22,
   "metadata": {},
   "outputs": [],
   "source": [
    "import numpy as np\n",
    "\n",
    "def randrange(r, n):\n",
    "    return np.random.randint(low=r[0], high=r[1], size=n)\n",
    "\n",
    "# rangos\n",
    "CONTAGIO = (10, 100)\n",
    "BENEFICIO = (10, 100)\n",
    "\n",
    "def randinst(n: int) -> Instance:\n",
    "    locales = zip(\n",
    "        randrange(BENEFICIO, n),\n",
    "        randrange(CONTAGIO, n),\n",
    "    )\n",
    "    \n",
    "    m = randrange((CONTAGIO[0] * n, CONTAGIO[1] * n), 1)[0]\n",
    "\n",
    "    return m, list(locales)\n",
    "    "
   ]
  },
  {
   "cell_type": "code",
   "execution_count": 23,
   "metadata": {},
   "outputs": [],
   "source": [
    "for i in range(INSTANCIAS):\n",
    "    for n in LOCALES:\n",
    "        m, locales = randinst(n)\n",
    "        save_instance(dataset=\"control\", instance=filename(n=n, i=i), M=m, locales=locales)"
   ]
  },
  {
   "cell_type": "markdown",
   "metadata": {},
   "source": [
    "## Grupos - Solapamiento"
   ]
  },
  {
   "cell_type": "code",
   "execution_count": 24,
   "metadata": {},
   "outputs": [],
   "source": [
    "BENEFICIO = (10, 50)\n",
    "\n",
    "def group_instance(cant_grupos: int, n: int) -> Instance:\n",
    "    locales = []\n",
    "    m = 0\n",
    "    for l in range(n):\n",
    "        c = (l % cant_grupos + 1)\n",
    "        m += c\n",
    "        b = randrange(BENEFICIO, 1)[0]\n",
    "        locales.append((b, c))\n",
    "\n",
    "    return m, locales\n",
    "    "
   ]
  },
  {
   "cell_type": "code",
   "execution_count": 25,
   "metadata": {},
   "outputs": [],
   "source": [
    "import random\n",
    "\n",
    "for i in range(INSTANCIAS):\n",
    "    for n in LOCALES:\n",
    "        for g in range(1, n+1):\n",
    "            # hay una cantidad de grupos n determinada para cada instancia\n",
    "            m, locales = group_instance(g, n)\n",
    "            save_instance(\"grupos\", filename(n=n, grupos=g, i=i), m, locales)\n"
   ]
  },
  {
   "cell_type": "markdown",
   "metadata": {},
   "source": [
    "## One tu rule dem ol"
   ]
  },
  {
   "cell_type": "code",
   "execution_count": 26,
   "metadata": {},
   "outputs": [],
   "source": [
    "beneficio = 10\n",
    "contagio = 10\n",
    "\n",
    "for i in range(INSTANCIAS):\n",
    "    for n in LOCALES:\n",
    "        for p in range(n):\n",
    "            ben_distinguido = beneficio*n\n",
    "            m = int(contagio * n / 2)\n",
    "\n",
    "            locales = [ (beneficio, contagio) for _ in range(n) ]\n",
    "            locales[p] = (ben_distinguido, contagio)\n",
    "            save_instance(\"one-to-rule\", filename(n=n, pos=p, i=i), m, locales)\n"
   ]
  },
  {
   "cell_type": "markdown",
   "metadata": {},
   "source": [
    "### ¿En qué lugar lo ponemos?"
   ]
  },
  {
   "cell_type": "markdown",
   "metadata": {},
   "source": [
    "- Podemos variar el lugar en que se coloca el local distinguido."
   ]
  },
  {
   "cell_type": "markdown",
   "metadata": {},
   "source": [
    "## Identicos"
   ]
  },
  {
   "cell_type": "code",
   "execution_count": 27,
   "metadata": {},
   "outputs": [],
   "source": [
    "beneficio = 10\n",
    "contagio = 10\n",
    "\n",
    "for i in range(INSTANCIAS):\n",
    "    for n in LOCALES:\n",
    "        M = int(contagio * n / 2)\n",
    "        locales = [ (beneficio, contagio) for _ in range(n) ]\n",
    "        save_instance(\"identicos\", filename(n=n, i=i), M, locales)\n"
   ]
  },
  {
   "cell_type": "markdown",
   "metadata": {},
   "source": [
    "## Factibilidad"
   ]
  },
  {
   "cell_type": "code",
   "execution_count": 28,
   "metadata": {},
   "outputs": [],
   "source": [
    "BENEFICIO = (10,50)\n",
    "CONTAGIO = (50,100)\n",
    "M = 200\n",
    "\n",
    "def fact_instances(n: int) -> Instance:\n",
    "    locales = zip(\n",
    "        randrange(BENEFICIO, n),\n",
    "        randrange(CONTAGIO, n),\n",
    "    )\n",
    "\n",
    "    return M, list(locales)\n",
    "    "
   ]
  },
  {
   "cell_type": "code",
   "execution_count": 29,
   "metadata": {},
   "outputs": [],
   "source": [
    "for i in range(INSTANCIAS):\n",
    "    for n in LOCALES:\n",
    "        m, locales = fact_instances(n)\n",
    "        save_instance(\"low-M\", filename(n=n, i=i), m, locales)\n"
   ]
  },
  {
   "cell_type": "markdown",
   "metadata": {},
   "source": [
    "## Caché en PD"
   ]
  },
  {
   "cell_type": "code",
   "execution_count": 30,
   "metadata": {},
   "outputs": [],
   "source": [
    "BENEFICIO = (10,50)\n",
    "CONTAGIO = (10,500)\n",
    "\n",
    "def cache_merchants(n: int) -> List[Local]:\n",
    "    locales = zip(\n",
    "        randrange(BENEFICIO, n),\n",
    "        randrange(CONTAGIO, n),\n",
    "    )\n",
    "\n",
    "    return list(locales)"
   ]
  },
  {
   "cell_type": "code",
   "execution_count": 31,
   "metadata": {},
   "outputs": [],
   "source": [
    "# Lo importante de esta experimentación es que no exista solapamiento entre los llamados a la memoria para que se utilicen\n",
    "# diferentes regiones de la tabla y esto lleve a que se termine desalojando de a una página de memoria (idealmente)  \n",
    "\n",
    "M = range(1000, 5000, 1000)\n",
    "\n",
    "for i in range(INSTANCIAS):\n",
    "    for n in LOCALES:\n",
    "        for m in M:\n",
    "            save_instance(\"cache\", filename(n=n, m=m, i=i), m, cache_merchants(n))"
   ]
  },
  {
   "cell_type": "markdown",
   "metadata": {},
   "source": [
    "## Programación Dinámica"
   ]
  },
  {
   "cell_type": "code",
   "execution_count": 32,
   "metadata": {},
   "outputs": [],
   "source": [
    "N = range(50, 1050, 50)\n",
    "M = range(50, 1050, 50)\n",
    "BENEFICIO = (1, 10)\n",
    "CONTAGIO = (1, 10)\n",
    "\n",
    "def randinst(n: int) -> List[Local]:\n",
    "    locales = zip(\n",
    "        randrange(BENEFICIO, n),\n",
    "        randrange(CONTAGIO, n),\n",
    "    )\n",
    "\n",
    "    return list(locales)\n",
    "\n",
    "for m in M:\n",
    "    for n in N:\n",
    "        for i in range(INSTANCIAS):\n",
    "            save_instance(\"complejidad-DP\", filename(n=n, m=m, i=i), m, randinst(n))"
   ]
  }
 ],
 "metadata": {
  "kernelspec": {
   "display_name": "Python 3",
   "language": "python",
   "name": "python3"
  },
  "language_info": {
   "codemirror_mode": {
    "name": "ipython",
    "version": 3
   },
   "file_extension": ".py",
   "mimetype": "text/x-python",
   "name": "python",
   "nbconvert_exporter": "python",
   "pygments_lexer": "ipython3",
   "version": "3.7.5"
  }
 },
 "nbformat": 4,
 "nbformat_minor": 4
}
