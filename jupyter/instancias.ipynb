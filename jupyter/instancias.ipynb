{
 "cells": [
  {
   "cell_type": "markdown",
   "metadata": {},
   "source": [
    "# Generacion de instancias"
   ]
  },
  {
   "cell_type": "code",
   "execution_count": 2,
   "metadata": {},
   "outputs": [],
   "source": [
    "%load_ext autoreload\n",
    "%autoreload 2"
   ]
  },
  {
   "cell_type": "code",
   "execution_count": 3,
   "metadata": {},
   "outputs": [],
   "source": [
    "DEBUG = False"
   ]
  },
  {
   "cell_type": "code",
   "execution_count": 4,
   "metadata": {},
   "outputs": [],
   "source": [
    "import os\n",
    "\n",
    "from typing import List\n",
    "from typing import Tuple\n",
    "\n",
    "Local = Tuple[int, int]\n",
    "def save_instance(dataset: str, instance: str, M: int, locales: List[Local]):\n",
    "    \"\"\"\n",
    "    Guarda una instancia con el formato\n",
    "\n",
    "        n M\n",
    "        b_1 c_1\n",
    "        .\n",
    "        .\n",
    "        .\n",
    "        b_n c_n\n",
    "\n",
    "    Las instancias son tuplas (b_i, c_i)\n",
    "    \"\"\"\n",
    "\n",
    "    # exist_ok para que no falle si ya existe\n",
    "    os.makedirs(f\"instancias/{dataset}\", exist_ok=True)\n",
    "\n",
    "    if DEBUG: print(\"Escribiendo instancia\", f\"{os.getcwd()}/instancias/{dataset}/{instance}.in\")\n",
    "    with open(f\"instancias/{dataset}/{instance}.in\", \"w\") as f:\n",
    "        print(len(locales), M, file=f)\n",
    "        for local in locales:\n",
    "            print(local[0], local[1], file=f)"
   ]
  },
  {
   "cell_type": "markdown",
   "metadata": {},
   "source": [
    "## Control\n",
    "\n",
    "Instancias generadas de forma aleatoria"
   ]
  },
  {
   "cell_type": "code",
   "execution_count": 5,
   "metadata": {},
   "outputs": [],
   "source": [
    "from typing import Tuple, List\n",
    "Instance = Tuple[int, List[Local]]"
   ]
  },
  {
   "cell_type": "code",
   "execution_count": 6,
   "metadata": {},
   "outputs": [],
   "source": [
    "import numpy as np\n",
    "\n",
    "def randrange(r, n):\n",
    "    return np.random.randint(low=r[0], high=r[1], size=n)\n",
    "\n",
    "# rangos\n",
    "CONTAGIO = (10, 100)\n",
    "BENEFICIO = (10, 100)\n",
    "N = 25    # cantidad de locales\n",
    "M = 1000\n",
    "\n",
    "def randinst() -> Instance:\n",
    "    locales = zip(\n",
    "        randrange(BENEFICIO, N),\n",
    "        randrange(CONTAGIO, N),\n",
    "    )\n",
    "\n",
    "    return M, list(locales)\n",
    "    "
   ]
  },
  {
   "cell_type": "code",
   "execution_count": 7,
   "metadata": {},
   "outputs": [],
   "source": [
    "INSTANCIAS = 10\n",
    "\n",
    "for i in range(INSTANCIAS):\n",
    "    m, locales = randinst()\n",
    "    save_instance(dataset=\"control\", instance=str(i), M=m, locales=locales)"
   ]
  },
  {
   "cell_type": "markdown",
   "metadata": {},
   "source": [
    "## Solapamiento"
   ]
  },
  {
   "cell_type": "code",
   "execution_count": 8,
   "metadata": {},
   "outputs": [],
   "source": [
    "BENEFICIO = (10, 50)\n",
    "LOCALES = 25\n",
    "\n",
    "def group_instance(cant_grupos: int) -> Instance:\n",
    "    locales = []\n",
    "    for l in range(LOCALES):\n",
    "        c = (l % cant_grupos + 1) * 10\n",
    "        b = randrange(BENEFICIO, 1)[0]\n",
    "        locales.append((b, c))\n",
    "\n",
    "    return cant_grupos*100, locales\n",
    "    "
   ]
  },
  {
   "cell_type": "code",
   "execution_count": 9,
   "metadata": {},
   "outputs": [],
   "source": [
    "import random\n",
    "\n",
    "N = 100\n",
    "INSTANCIAS = 10\n",
    "\n",
    "for n in range(1, N+1):\n",
    "    # hay una cantidad de grupos n determinada para cada instancia\n",
    "    for i in range(INSTANCIAS):\n",
    "        m, locales = group_instance(n)\n",
    "        save_instance(\"grupos\", f\"{n}-grupos_{i}\", m, locales)\n",
    "    "
   ]
  },
  {
   "cell_type": "markdown",
   "metadata": {},
   "source": [
    "## One tu rule dem ol"
   ]
  },
  {
   "cell_type": "code",
   "execution_count": 23,
   "metadata": {},
   "outputs": [],
   "source": [
    "INSTANCIAS = 20\n",
    "LOCALES = 20\n",
    "BEN = 10 # ben 10\n",
    "CONT = 10\n",
    "BEN_DISTINGUIDO = BEN*LOCALES\n",
    "M = int(CONT * LOCALES / 2)\n",
    "for i in range(INSTANCIAS):\n",
    "    locales = [ (BEN, CONT) for _ in range(LOCALES) ]\n",
    "    locales[i] = (BEN_DISTINGUIDO, CONT)\n",
    "    save_instance(\"one-to-rule\", \"pos_\"+str(i), M, locales)\n"
   ]
  },
  {
   "cell_type": "markdown",
   "metadata": {},
   "source": [
    "## Identicos"
   ]
  },
  {
   "cell_type": "code",
   "execution_count": 11,
   "metadata": {},
   "outputs": [],
   "source": [
    "INSTANCIAS = 10\n",
    "LOCALES = 25\n",
    "BEN = 10\n",
    "CONT = 10\n",
    "M = int(CONT * LOCALES / 2)\n",
    "for i in range(INSTANCIAS):\n",
    "    locales = [ (BEN, CONT) for _ in range(LOCALES) ]\n",
    "    save_instance(\"identicos\", str(i), M, locales)\n"
   ]
  },
  {
   "cell_type": "code",
   "execution_count": null,
   "metadata": {},
   "outputs": [],
   "source": []
  }
 ],
 "metadata": {
  "kernelspec": {
   "display_name": "Python 3",
   "language": "python",
   "name": "python3"
  },
  "language_info": {
   "codemirror_mode": {
    "name": "ipython",
    "version": 3
   },
   "file_extension": ".py",
   "mimetype": "text/x-python",
   "name": "python",
   "nbconvert_exporter": "python",
   "pygments_lexer": "ipython3",
   "version": "3.7.5"
  }
 },
 "nbformat": 4,
 "nbformat_minor": 4
}
