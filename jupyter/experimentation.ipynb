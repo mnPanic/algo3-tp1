{
 "cells": [
  {
   "cell_type": "markdown",
   "metadata": {},
   "source": [
    "# Experimentación\n",
    "\n",
    "En este notebook corremos los experimentos descritos en el informe"
   ]
  },
  {
   "cell_type": "code",
   "execution_count": null,
   "metadata": {},
   "outputs": [],
   "source": [
    "%load_ext autoreload\n",
    "%autoreload 2"
   ]
  },
  {
   "cell_type": "code",
   "execution_count": 2,
   "metadata": {},
   "outputs": [],
   "source": [
    "import subprocess\n",
    "\n",
    "def run(algorithm: str, instance_path: str) -> (int, float):\n",
    "    \"\"\"Corre el programa para la instancia dada y devuelve (resultado, tiempo de ejecucion).\"\"\"\n",
    "    result = subprocess.run(\n",
    "        f\"../build/npm {algorithm} < {instance_path}\",\n",
    "        shell=True, capture_output=True, text=True, check=True,\n",
    "    )\n",
    "\n",
    "    return int(result.stdout), float(result.stderr)"
   ]
  },
  {
   "cell_type": "code",
   "execution_count": 3,
   "metadata": {},
   "outputs": [],
   "source": [
    "import json\n",
    "import pandas as pd\n",
    "import seaborn as sns\n",
    "import matplotlib.pyplot as plt\n",
    "\n",
    "def run_solapamiento(instance_path: str):\n",
    "    \"\"\"Corre el programa para la instancia dada y devuelve (resultado, matriz de solapamiento).\"\"\"\n",
    "    result = subprocess.run(\n",
    "        f\"../build/npm GR < {instance_path}\",\n",
    "        shell=True, capture_output=True, text=True, check=True,\n",
    "    )\n",
    "\n",
    "    return json.loads(result.stderr.split('\\n')[0])[\"pd_accesses\"]\n",
    "\n",
    "\n",
    "# TODO: arreglar sta mierda\n",
    "#df1 = pd.DataFrame(run_solapamiento(\"instancias/grupos/1-grupos_1.in\"))\n",
    "#df25 = pd.DataFrame(run_solapamiento(\"instancias/grupos/25-grupos_1.in\"))\n",
    "\n",
    "#fig, ax = plt.subplots(ncols=2, sharey=True)\n",
    "#g = sns.heatmap(data=df25, cbar=True, ax=ax[0])\n",
    "#g.set_title(\"25\")\n",
    "#sns.heatmap(data=df1, cbar=True, ax=ax[1])"
   ]
  },
  {
   "cell_type": "code",
   "execution_count": 4,
   "metadata": {},
   "outputs": [],
   "source": [
    "from typing import List\n",
    "\n",
    "def get_instances(dataset: str) -> List[str]:\n",
    "    \"\"\"Para cada dataset devuelve la lista de instancias correspondientes con el path completo\"\"\"\n",
    "    instances = os.listdir(f\"instancias/{dataset}\")\n",
    "    return list(filter(\n",
    "        lambda i: i.endswith(\".in\"),\n",
    "        map(lambda i: f\"instancias/{dataset}/\"+i, instances),\n",
    "    ))\n"
   ]
  },
  {
   "cell_type": "code",
   "execution_count": 5,
   "metadata": {},
   "outputs": [],
   "source": [
    "def run_instance(rows: list, dataset: str, algorithms: List[str]):\n",
    "    \"\"\"\n",
    "    Corre una instancia para todos los algoritmos, llenando por referencia\n",
    "    la lista de rows. Lanza una excepcion si para alguna instancia los\n",
    "    resultados de todos los algoritmos no coinciden.\n",
    "    \"\"\"\n",
    "    for instance in tqdm(get_instances(dataset), \"instancias\"):\n",
    "        results = {}\n",
    "        for alg in algorithms:\n",
    "            res, t = run(alg, instance)\n",
    "            rows.append({\n",
    "                \"dataset\": dataset,\n",
    "                \"algorithm\": alg,\n",
    "                \"time_ms\": t,\n",
    "                \"instance\": instance,\n",
    "            })\n",
    "\n",
    "            results[alg] = res\n",
    "\n",
    "        if not np.alltrue([results[algorithms[0]] == res for res in results.values()]):\n",
    "            print(f\"Ojo que con la instancia {instance} no dieron todos iguales. Resultados: {results}\")"
   ]
  },
  {
   "cell_type": "markdown",
   "metadata": {},
   "source": [
    "## Implementación de la experimentación"
   ]
  },
  {
   "cell_type": "code",
   "execution_count": 6,
   "metadata": {},
   "outputs": [],
   "source": [
    "ALL = [\"FB\", \"BT\", \"BT-F\", \"BT-O-G\", \"BT-O-C\", \"DP\"]"
   ]
  },
  {
   "cell_type": "code",
   "execution_count": 7,
   "metadata": {},
   "outputs": [],
   "source": [
    "# type experimento struct {\n",
    "#     algoritmos: []string\n",
    "#     dataset: string\n",
    "# }\n",
    "\n",
    "experimentos = [\n",
    "    {\n",
    "        \"algoritmos\" : ALL,\n",
    "        \"dataset\"    : \"control\",\n",
    "    },\n",
    "    {\n",
    "    # DP para ver cómo afecta el solapamiento y BT debería ser siempre más o menos igual\n",
    "    \n",
    "    # TODO: revisar la matriz de solapamiento\n",
    "        \"algoritmos\" : [\"BT\", \"DP\"],\n",
    "        \"dataset\"    : \"grupos\",\n",
    "    },\n",
    "    # Optimalidad\n",
    "    {\n",
    "        \"algoritmos\" : ALL,\n",
    "        \"dataset\"    : \"one-to-rule\",\n",
    "    },\n",
    "    {\n",
    "        \"algoritmos\" : ALL,\n",
    "        \"dataset\"    : \"identicos\",\n",
    "    },\n",
    "    # Factibilidad\n",
    "    {\n",
    "        \"algoritmos\" : ALL,\n",
    "        \"dataset\"    : \"low-M\",\n",
    "    },\n",
    "    # Programación Dinámica\n",
    "    {\n",
    "        \"algoritmos\" : [\"BT-F\", \"DP\"],\n",
    "        \"dataset\"    : \"cache\",\n",
    "    },\n",
    "    {\n",
    "        \"algoritmos\" : [\"DP\"],\n",
    "        \"dataset\"    : \"complejidad-DP\",\n",
    "    }\n",
    "]\n"
   ]
  },
  {
   "cell_type": "code",
   "execution_count": 8,
   "metadata": {},
   "outputs": [
    {
     "name": "stderr",
     "output_type": "stream",
     "text": [
      "instancias:   3%|▎         | 2/78 [00:00<00:04, 18.37it/s]"
     ]
    },
    {
     "name": "stdout",
     "output_type": "stream",
     "text": [
      "Corriendo el experimento control (1/7)\n"
     ]
    },
    {
     "name": "stderr",
     "output_type": "stream",
     "text": [
      "instancias: 100%|██████████| 78/78 [08:37<00:00,  6.64s/it]\n",
      "instancias:   1%|          | 7/1365 [00:00<00:24, 56.17it/s]"
     ]
    },
    {
     "name": "stdout",
     "output_type": "stream",
     "text": [
      "Corriendo el experimento grupos (2/7)\n"
     ]
    },
    {
     "name": "stderr",
     "output_type": "stream",
     "text": [
      "instancias: 100%|██████████| 1365/1365 [00:29<00:00, 46.82it/s]\n",
      "instancias:   0%|          | 0/90 [00:00<?, ?it/s]"
     ]
    },
    {
     "name": "stdout",
     "output_type": "stream",
     "text": [
      "Corriendo el experimento one-to-rule (3/7)\n"
     ]
    },
    {
     "name": "stderr",
     "output_type": "stream",
     "text": [
      "instancias: 100%|██████████| 90/90 [1:59:47<00:00, 79.86s/it]\n",
      "instancias:   1%|▏         | 1/78 [00:00<00:07,  9.70it/s]"
     ]
    },
    {
     "name": "stdout",
     "output_type": "stream",
     "text": [
      "Corriendo el experimento identicos (4/7)\n"
     ]
    },
    {
     "name": "stderr",
     "output_type": "stream",
     "text": [
      "instancias: 100%|██████████| 78/78 [10:51<00:00,  8.35s/it]\n",
      "instancias:   3%|▎         | 2/78 [00:00<00:04, 18.98it/s]"
     ]
    },
    {
     "name": "stdout",
     "output_type": "stream",
     "text": [
      "Corriendo el experimento low-M (5/7)\n",
      "Ojo que con la instancia instancias/low-M/n_19-i_1.in no dieron todos iguales. Resultados: {'FB': 141, 'BT': 117, 'BT-F': 141, 'BT-O-G': 117, 'BT-O-C': 141, 'DP': 141}\n"
     ]
    },
    {
     "name": "stderr",
     "output_type": "stream",
     "text": [
      "instancias:   5%|▌         | 4/78 [00:00<00:04, 17.64it/s]"
     ]
    },
    {
     "name": "stdout",
     "output_type": "stream",
     "text": [
      "Ojo que con la instancia instancias/low-M/n_20-i_0.in no dieron todos iguales. Resultados: {'FB': 136, 'BT': 133, 'BT-F': 136, 'BT-O-G': 133, 'BT-O-C': 136, 'DP': 136}\n",
      "Ojo que con la instancia instancias/low-M/n_10-i_1.in no dieron todos iguales. Resultados: {'FB': 123, 'BT': 105, 'BT-F': 123, 'BT-O-G': 105, 'BT-O-C': 123, 'DP': 123}\n"
     ]
    },
    {
     "name": "stderr",
     "output_type": "stream",
     "text": [
      "instancias:  12%|█▏        | 9/78 [00:00<00:04, 15.16it/s]"
     ]
    },
    {
     "name": "stdout",
     "output_type": "stream",
     "text": [
      "Ojo que con la instancia instancias/low-M/n_22-i_1.in no dieron todos iguales. Resultados: {'FB': 107, 'BT': 96, 'BT-F': 107, 'BT-O-G': 96, 'BT-O-C': 107, 'DP': 107}\n",
      "Ojo que con la instancia instancias/low-M/n_9-i_2.in no dieron todos iguales. Resultados: {'FB': 100, 'BT': 94, 'BT-F': 100, 'BT-O-G': 94, 'BT-O-C': 100, 'DP': 100}\n",
      "Ojo que con la instancia instancias/low-M/n_15-i_1.in no dieron todos iguales. Resultados: {'FB': 125, 'BT': 107, 'BT-F': 125, 'BT-O-G': 107, 'BT-O-C': 125, 'DP': 125}\n"
     ]
    },
    {
     "name": "stderr",
     "output_type": "stream",
     "text": [
      "instancias:  17%|█▋        | 13/78 [00:03<00:27,  2.38it/s]"
     ]
    },
    {
     "name": "stdout",
     "output_type": "stream",
     "text": [
      "Ojo que con la instancia instancias/low-M/n_26-i_0.in no dieron todos iguales. Resultados: {'FB': 144, 'BT': 135, 'BT-F': 144, 'BT-O-G': 135, 'BT-O-C': 144, 'DP': 144}\n",
      "Ojo que con la instancia instancias/low-M/n_21-i_2.in no dieron todos iguales. Resultados: {'FB': 135, 'BT': 129, 'BT-F': 135, 'BT-O-G': 129, 'BT-O-C': 135, 'DP': 135}\n"
     ]
    },
    {
     "name": "stderr",
     "output_type": "stream",
     "text": [
      "instancias:  22%|██▏       | 17/78 [00:25<02:42,  2.66s/it]"
     ]
    },
    {
     "name": "stdout",
     "output_type": "stream",
     "text": [
      "Ojo que con la instancia instancias/low-M/n_26-i_2.in no dieron todos iguales. Resultados: {'FB': 119, 'BT': 112, 'BT-F': 119, 'BT-O-G': 112, 'BT-O-C': 119, 'DP': 119}\n"
     ]
    },
    {
     "name": "stderr",
     "output_type": "stream",
     "text": [
      "instancias:  26%|██▌       | 20/78 [01:04<06:58,  7.22s/it]"
     ]
    },
    {
     "name": "stdout",
     "output_type": "stream",
     "text": [
      "Ojo que con la instancia instancias/low-M/n_30-i_2.in no dieron todos iguales. Resultados: {'FB': 129, 'BT': 126, 'BT-F': 129, 'BT-O-G': 126, 'BT-O-C': 129, 'DP': 129}\n"
     ]
    },
    {
     "name": "stderr",
     "output_type": "stream",
     "text": [
      "instancias:  29%|██▉       | 23/78 [01:10<04:18,  4.71s/it]"
     ]
    },
    {
     "name": "stdout",
     "output_type": "stream",
     "text": [
      "Ojo que con la instancia instancias/low-M/n_20-i_1.in no dieron todos iguales. Resultados: {'FB': 116, 'BT': 106, 'BT-F': 116, 'BT-O-G': 106, 'BT-O-C': 116, 'DP': 116}\n",
      "Ojo que con la instancia instancias/low-M/n_13-i_1.in no dieron todos iguales. Resultados: {'FB': 128, 'BT': 114, 'BT-F': 128, 'BT-O-G': 114, 'BT-O-C': 128, 'DP': 128}\n",
      "Ojo que con la instancia instancias/low-M/n_14-i_1.in no dieron todos iguales. Resultados: {'FB': 121, 'BT': 121, 'BT-F': 121, 'BT-O-G': 119, 'BT-O-C': 121, 'DP': 121}\n"
     ]
    },
    {
     "name": "stderr",
     "output_type": "stream",
     "text": [
      "instancias:  33%|███▎      | 26/78 [01:52<06:29,  7.50s/it]"
     ]
    },
    {
     "name": "stdout",
     "output_type": "stream",
     "text": [
      "Ojo que con la instancia instancias/low-M/n_15-i_0.in no dieron todos iguales. Resultados: {'FB': 138, 'BT': 130, 'BT-F': 138, 'BT-O-G': 130, 'BT-O-C': 138, 'DP': 138}\n"
     ]
    },
    {
     "name": "stderr",
     "output_type": "stream",
     "text": [
      "instancias:  36%|███▌      | 28/78 [01:52<04:25,  5.31s/it]"
     ]
    },
    {
     "name": "stdout",
     "output_type": "stream",
     "text": [
      "Ojo que con la instancia instancias/low-M/n_23-i_1.in no dieron todos iguales. Resultados: {'FB': 111, 'BT': 102, 'BT-F': 111, 'BT-O-G': 102, 'BT-O-C': 111, 'DP': 111}\n"
     ]
    },
    {
     "name": "stderr",
     "output_type": "stream",
     "text": [
      "instancias:  37%|███▋      | 29/78 [01:53<03:11,  3.91s/it]"
     ]
    },
    {
     "name": "stdout",
     "output_type": "stream",
     "text": [
      "Ojo que con la instancia instancias/low-M/n_24-i_1.in no dieron todos iguales. Resultados: {'FB': 119, 'BT': 97, 'BT-F': 119, 'BT-O-G': 97, 'BT-O-C': 119, 'DP': 119}\n"
     ]
    },
    {
     "name": "stderr",
     "output_type": "stream",
     "text": [
      "instancias:  42%|████▏     | 33/78 [02:13<03:14,  4.33s/it]"
     ]
    },
    {
     "name": "stdout",
     "output_type": "stream",
     "text": [
      "Ojo que con la instancia instancias/low-M/n_25-i_1.in no dieron todos iguales. Resultados: {'FB': 146, 'BT': 114, 'BT-F': 146, 'BT-O-G': 114, 'BT-O-C': 146, 'DP': 146}\n"
     ]
    },
    {
     "name": "stderr",
     "output_type": "stream",
     "text": [
      "instancias:  47%|████▋     | 37/78 [02:18<02:08,  3.14s/it]"
     ]
    },
    {
     "name": "stdout",
     "output_type": "stream",
     "text": [
      "Ojo que con la instancia instancias/low-M/n_10-i_0.in no dieron todos iguales. Resultados: {'FB': 138, 'BT': 126, 'BT-F': 138, 'BT-O-G': 126, 'BT-O-C': 138, 'DP': 138}\n"
     ]
    },
    {
     "name": "stderr",
     "output_type": "stream",
     "text": [
      "instancias:  50%|█████     | 39/78 [02:27<02:19,  3.58s/it]"
     ]
    },
    {
     "name": "stdout",
     "output_type": "stream",
     "text": [
      "Ojo que con la instancia instancias/low-M/n_28-i_2.in no dieron todos iguales. Resultados: {'FB': 134, 'BT': 110, 'BT-F': 134, 'BT-O-G': 110, 'BT-O-C': 134, 'DP': 134}\n"
     ]
    },
    {
     "name": "stderr",
     "output_type": "stream",
     "text": [
      "instancias:  56%|█████▋    | 44/78 [02:27<01:00,  1.78s/it]"
     ]
    },
    {
     "name": "stdout",
     "output_type": "stream",
     "text": [
      "Ojo que con la instancia instancias/low-M/n_12-i_0.in no dieron todos iguales. Resultados: {'FB': 121, 'BT': 86, 'BT-F': 121, 'BT-O-G': 86, 'BT-O-C': 121, 'DP': 121}\n",
      "Ojo que con la instancia instancias/low-M/n_16-i_2.in no dieron todos iguales. Resultados: {'FB': 141, 'BT': 116, 'BT-F': 141, 'BT-O-G': 116, 'BT-O-C': 141, 'DP': 141}\n"
     ]
    },
    {
     "name": "stderr",
     "output_type": "stream",
     "text": [
      "instancias:  59%|█████▉    | 46/78 [02:28<00:43,  1.35s/it]"
     ]
    },
    {
     "name": "stdout",
     "output_type": "stream",
     "text": [
      "Ojo que con la instancia instancias/low-M/n_24-i_2.in no dieron todos iguales. Resultados: {'FB': 135, 'BT': 117, 'BT-F': 135, 'BT-O-G': 117, 'BT-O-C': 135, 'DP': 135}\n",
      "Ojo que con la instancia instancias/low-M/n_28-i_1.in no dieron todos iguales. Resultados: {'FB': 134, 'BT': 125, 'BT-F': 134, 'BT-O-G': 115, 'BT-O-C': 134, 'DP': 134}\n"
     ]
    },
    {
     "name": "stderr",
     "output_type": "stream",
     "text": [
      "instancias:  63%|██████▎   | 49/78 [02:46<01:15,  2.59s/it]"
     ]
    },
    {
     "name": "stdout",
     "output_type": "stream",
     "text": [
      "Ojo que con la instancia instancias/low-M/n_28-i_0.in no dieron todos iguales. Resultados: {'FB': 139, 'BT': 104, 'BT-F': 139, 'BT-O-G': 104, 'BT-O-C': 139, 'DP': 139}\n",
      "Ojo que con la instancia instancias/low-M/n_18-i_1.in no dieron todos iguales. Resultados: {'FB': 98, 'BT': 96, 'BT-F': 98, 'BT-O-G': 96, 'BT-O-C': 98, 'DP': 98}\n"
     ]
    },
    {
     "name": "stderr",
     "output_type": "stream",
     "text": [
      "instancias:  67%|██████▋   | 52/78 [02:46<00:47,  1.83s/it]"
     ]
    },
    {
     "name": "stdout",
     "output_type": "stream",
     "text": [
      "Ojo que con la instancia instancias/low-M/n_15-i_2.in no dieron todos iguales. Resultados: {'FB': 128, 'BT': 127, 'BT-F': 128, 'BT-O-G': 127, 'BT-O-C': 128, 'DP': 128}\n"
     ]
    },
    {
     "name": "stderr",
     "output_type": "stream",
     "text": [
      "instancias:  72%|███████▏  | 56/78 [02:47<00:25,  1.17s/it]"
     ]
    },
    {
     "name": "stdout",
     "output_type": "stream",
     "text": [
      "Ojo que con la instancia instancias/low-M/n_16-i_0.in no dieron todos iguales. Resultados: {'FB': 123, 'BT': 115, 'BT-F': 123, 'BT-O-G': 115, 'BT-O-C': 123, 'DP': 123}\n",
      "Ojo que con la instancia instancias/low-M/n_17-i_1.in no dieron todos iguales. Resultados: {'FB': 115, 'BT': 94, 'BT-F': 115, 'BT-O-G': 94, 'BT-O-C': 115, 'DP': 115}\n"
     ]
    },
    {
     "name": "stderr",
     "output_type": "stream",
     "text": [
      "instancias:  78%|███████▊  | 61/78 [02:48<00:10,  1.63it/s]"
     ]
    },
    {
     "name": "stdout",
     "output_type": "stream",
     "text": [
      "Ojo que con la instancia instancias/low-M/n_22-i_0.in no dieron todos iguales. Resultados: {'FB': 120, 'BT': 93, 'BT-F': 120, 'BT-O-G': 93, 'BT-O-C': 120, 'DP': 120}\n"
     ]
    },
    {
     "name": "stderr",
     "output_type": "stream",
     "text": [
      "instancias:  81%|████████  | 63/78 [03:06<00:47,  3.15s/it]"
     ]
    },
    {
     "name": "stdout",
     "output_type": "stream",
     "text": [
      "Ojo que con la instancia instancias/low-M/n_29-i_2.in no dieron todos iguales. Resultados: {'FB': 126, 'BT': 108, 'BT-F': 126, 'BT-O-G': 108, 'BT-O-C': 126, 'DP': 126}\n",
      "Ojo que con la instancia instancias/low-M/n_13-i_0.in no dieron todos iguales. Resultados: {'FB': 110, 'BT': 105, 'BT-F': 110, 'BT-O-G': 105, 'BT-O-C': 110, 'DP': 110}\n"
     ]
    },
    {
     "name": "stderr",
     "output_type": "stream",
     "text": [
      "instancias:  85%|████████▍ | 66/78 [03:07<00:28,  2.35s/it]"
     ]
    },
    {
     "name": "stdout",
     "output_type": "stream",
     "text": [
      "Ojo que con la instancia instancias/low-M/n_12-i_1.in no dieron todos iguales. Resultados: {'FB': 109, 'BT': 95, 'BT-F': 109, 'BT-O-G': 95, 'BT-O-C': 109, 'DP': 109}\n"
     ]
    },
    {
     "name": "stderr",
     "output_type": "stream",
     "text": [
      "instancias:  94%|█████████▎| 73/78 [03:47<00:18,  3.73s/it]"
     ]
    },
    {
     "name": "stdout",
     "output_type": "stream",
     "text": [
      "Ojo que con la instancia instancias/low-M/n_9-i_0.in no dieron todos iguales. Resultados: {'FB': 104, 'BT': 77, 'BT-F': 104, 'BT-O-G': 77, 'BT-O-C': 104, 'DP': 104}\n",
      "Ojo que con la instancia instancias/low-M/n_21-i_0.in no dieron todos iguales. Resultados: {'FB': 136, 'BT': 132, 'BT-F': 136, 'BT-O-G': 132, 'BT-O-C': 136, 'DP': 136}\n",
      "Ojo que con la instancia instancias/low-M/n_17-i_0.in no dieron todos iguales. Resultados: {'FB': 91, 'BT': 73, 'BT-F': 91, 'BT-O-G': 73, 'BT-O-C': 91, 'DP': 91}\n"
     ]
    },
    {
     "name": "stderr",
     "output_type": "stream",
     "text": [
      "instancias:  96%|█████████▌| 75/78 [03:49<00:08,  2.96s/it]"
     ]
    },
    {
     "name": "stdout",
     "output_type": "stream",
     "text": [
      "Ojo que con la instancia instancias/low-M/n_26-i_1.in no dieron todos iguales. Resultados: {'FB': 116, 'BT': 83, 'BT-F': 116, 'BT-O-G': 83, 'BT-O-C': 116, 'DP': 116}\n"
     ]
    },
    {
     "name": "stderr",
     "output_type": "stream",
     "text": [
      "instancias: 100%|██████████| 78/78 [03:54<00:00,  3.01s/it]\n",
      "instancias:   2%|▏         | 5/312 [00:00<00:06, 47.57it/s]"
     ]
    },
    {
     "name": "stdout",
     "output_type": "stream",
     "text": [
      "Corriendo el experimento cache (6/7)\n"
     ]
    },
    {
     "name": "stderr",
     "output_type": "stream",
     "text": [
      "instancias: 100%|██████████| 312/312 [00:05<00:00, 56.59it/s]\n",
      "instancias:   1%|          | 10/1200 [00:00<00:13, 90.90it/s]"
     ]
    },
    {
     "name": "stdout",
     "output_type": "stream",
     "text": [
      "Corriendo el experimento complejidad-DP (7/7)\n"
     ]
    },
    {
     "name": "stderr",
     "output_type": "stream",
     "text": [
      "instancias: 100%|██████████| 1200/1200 [00:15<00:00, 79.46it/s]"
     ]
    },
    {
     "name": "stdout",
     "output_type": "stream",
     "text": [
      "Finished!\n"
     ]
    },
    {
     "name": "stderr",
     "output_type": "stream",
     "text": [
      "\n"
     ]
    }
   ],
   "source": [
    "import os\n",
    "import numpy as np\n",
    "import pandas as pd\n",
    "\n",
    "from tqdm import tqdm\n",
    "\n",
    "rows = []\n",
    "\n",
    "for i, experimento in enumerate(experimentos):\n",
    "    print(\"Corriendo el experimento {0} ({1}/{2})\".format(experimento[\"dataset\"], i+1, len(experimentos)))\n",
    "    run_instance(rows, experimento[\"dataset\"], experimento[\"algoritmos\"])\n",
    "\n",
    "df_results = pd.DataFrame(rows, columns=[\"dataset\", \"algorithm\", \"time_ms\", \"instance\"])\n",
    "print(\"Finished!\")"
   ]
  },
  {
   "cell_type": "code",
   "execution_count": 9,
   "metadata": {},
   "outputs": [],
   "source": [
    "df_results.to_csv(\"resultados.csv\")"
   ]
  },
  {
   "cell_type": "code",
   "execution_count": null,
   "metadata": {},
   "outputs": [],
   "source": []
  }
 ],
 "metadata": {
  "kernelspec": {
   "display_name": "Python 3",
   "language": "python",
   "name": "python3"
  },
  "language_info": {
   "codemirror_mode": {
    "name": "ipython",
    "version": 3
   },
   "file_extension": ".py",
   "mimetype": "text/x-python",
   "name": "python",
   "nbconvert_exporter": "python",
   "pygments_lexer": "ipython3",
   "version": "3.7.5"
  }
 },
 "nbformat": 4,
 "nbformat_minor": 4
}
