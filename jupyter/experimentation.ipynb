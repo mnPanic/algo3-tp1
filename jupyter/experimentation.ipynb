{
 "cells": [
  {
   "cell_type": "markdown",
   "metadata": {},
   "source": [
    "# Experimentación\n",
    "\n",
    "En este notebook corremos los experimentos descritos en el informe"
   ]
  },
  {
   "cell_type": "code",
   "execution_count": null,
   "metadata": {},
   "outputs": [],
   "source": [
    "%load_ext autoreload\n",
    "%autoreload 2"
   ]
  },
  {
   "cell_type": "code",
   "execution_count": 2,
   "metadata": {},
   "outputs": [],
   "source": [
    "import subprocess\n",
    "\n",
    "def run(algorithm: str, instance_path: str) -> (int, float):\n",
    "    \"\"\"Corre el programa para la instancia dada y devuelve (resultado, tiempo de ejecucion).\"\"\"\n",
    "    result = subprocess.run(\n",
    "        f\"../build/npm {algorithm} < {instance_path}\",\n",
    "        shell=True, capture_output=True, text=True, check=True,\n",
    "    )\n",
    "\n",
    "    return int(result.stdout), float(result.stderr)"
   ]
  },
  {
   "cell_type": "code",
   "execution_count": 3,
   "metadata": {},
   "outputs": [],
   "source": [
    "import json\n",
    "import pandas as pd\n",
    "import seaborn as sns\n",
    "import matplotlib.pyplot as plt\n",
    "\n",
    "def run_solapamiento(instance_path: str):\n",
    "    \"\"\"Corre el programa para la instancia dada y devuelve (resultado, matriz de solapamiento).\"\"\"\n",
    "    result = subprocess.run(\n",
    "        f\"../build/npm GR < {instance_path}\",\n",
    "        shell=True, capture_output=True, text=True, check=True,\n",
    "    )\n",
    "\n",
    "    return json.loads(result.stderr.split('\\n')[0])[\"pd_accesses\"]\n",
    "\n",
    "\n",
    "# TODO: arreglar sta mierda\n",
    "#df1 = pd.DataFrame(run_solapamiento(\"instancias/grupos/1-grupos_1.in\"))\n",
    "#df25 = pd.DataFrame(run_solapamiento(\"instancias/grupos/25-grupos_1.in\"))\n",
    "\n",
    "#fig, ax = plt.subplots(ncols=2, sharey=True)\n",
    "#g = sns.heatmap(data=df25, cbar=True, ax=ax[0])\n",
    "#g.set_title(\"25\")\n",
    "#sns.heatmap(data=df1, cbar=True, ax=ax[1])"
   ]
  },
  {
   "cell_type": "code",
   "execution_count": 4,
   "metadata": {},
   "outputs": [],
   "source": [
    "from typing import List\n",
    "\n",
    "def get_instances(dataset: str) -> List[str]:\n",
    "    \"\"\"Para cada dataset devuelve la lista de instancias correspondientes con el path completo\"\"\"\n",
    "    instances = os.listdir(f\"instancias/{dataset}\")\n",
    "    return list(filter(\n",
    "        lambda i: i.endswith(\".in\"),\n",
    "        map(lambda i: f\"instancias/{dataset}/\"+i, instances),\n",
    "    ))\n"
   ]
  },
  {
   "cell_type": "code",
   "execution_count": 5,
   "metadata": {},
   "outputs": [],
   "source": [
    "def run_instance(rows: list, dataset: str, algorithms: List[str]):\n",
    "    \"\"\"\n",
    "    Corre una instancia para todos los algoritmos, llenando por referencia\n",
    "    la lista de rows. Lanza una excepcion si para alguna instancia los\n",
    "    resultados de todos los algoritmos no coinciden.\n",
    "    \"\"\"\n",
    "    for instance in tqdm(get_instances(dataset), \"instancias\"):\n",
    "        results = {}\n",
    "        for alg in algorithms:\n",
    "            res, t = run(alg, instance)\n",
    "            rows.append({\n",
    "                \"dataset\": dataset,\n",
    "                \"algorithm\": alg,\n",
    "                \"time_ms\": t,\n",
    "                \"instance\": instance,\n",
    "            })\n",
    "\n",
    "            results[alg] = res\n",
    "\n",
    "        if not np.alltrue([results[algorithms[0]] == res for res in results.values()]):\n",
    "            print(f\"Ojo que con la instancia {instance} no dieron todos iguales. Resultados: {results}\")"
   ]
  },
  {
   "cell_type": "markdown",
   "metadata": {},
   "source": [
    "## Implementación de la experimentación"
   ]
  },
  {
   "cell_type": "code",
   "execution_count": 6,
   "metadata": {},
   "outputs": [],
   "source": [
    "ALL = [\"FB\", \"BT\", \"BT-F\", \"BT-O-G\", \"BT-O-C\", \"DP\"]"
   ]
  },
  {
   "cell_type": "code",
   "execution_count": 7,
   "metadata": {},
   "outputs": [],
   "source": [
    "# type experimento struct {\n",
    "#     algoritmos: []string\n",
    "#     dataset: string\n",
    "# }\n",
    "\n",
    "experimentos = [\n",
    "    {\n",
    "        \"algoritmos\" : ALL,\n",
    "        \"dataset\"    : \"control\",\n",
    "    },\n",
    "    {\n",
    "    # DP para ver cómo afecta el solapamiento y BT debería ser siempre más o menos igual\n",
    "    \n",
    "    # TODO: revisar la matriz de solapamiento\n",
    "        \"algoritmos\" : [\"BT\", \"DP\"],\n",
    "        \"dataset\"    : \"grupos\",\n",
    "    },\n",
    "    # Optimalidad\n",
    "    {\n",
    "        \"algoritmos\" : ALL,\n",
    "        \"dataset\"    : \"one-to-rule\",\n",
    "    },\n",
    "    {\n",
    "        \"algoritmos\" : ALL,\n",
    "        \"dataset\"    : \"identicos\",\n",
    "    },\n",
    "    # Factibilidad\n",
    "    {\n",
    "        \"algoritmos\" : ALL,\n",
    "        \"dataset\"    : \"low-M\",\n",
    "    },\n",
    "    # Programación Dinámica\n",
    "    {\n",
    "        \"algoritmos\" : [\"BT-F\", \"DP\"],\n",
    "        \"dataset\"    : \"cache\",\n",
    "    },\n",
    "    {\n",
    "        \"algoritmos\" : [\"DP\"],\n",
    "        \"dataset\"    : \"complejidad-DP\",\n",
    "    }\n",
    "]\n"
   ]
  },
  {
   "cell_type": "code",
   "execution_count": null,
   "metadata": {},
   "outputs": [
    {
     "name": "stderr",
     "output_type": "stream",
     "text": [
      "instancias:   3%|▎         | 2/78 [00:00<00:04, 18.37it/s]"
     ]
    },
    {
     "name": "stdout",
     "output_type": "stream",
     "text": [
      "Corriendo el experimento control (1/7)\n"
     ]
    },
    {
     "name": "stderr",
     "output_type": "stream",
     "text": [
      "instancias: 100%|██████████| 78/78 [08:37<00:00,  6.64s/it]\n",
      "instancias:   1%|          | 7/1365 [00:00<00:24, 56.17it/s]"
     ]
    },
    {
     "name": "stdout",
     "output_type": "stream",
     "text": [
      "Corriendo el experimento grupos (2/7)\n"
     ]
    },
    {
     "name": "stderr",
     "output_type": "stream",
     "text": [
      "instancias: 100%|██████████| 1365/1365 [00:29<00:00, 46.82it/s]\n",
      "instancias:   0%|          | 0/90 [00:00<?, ?it/s]"
     ]
    },
    {
     "name": "stdout",
     "output_type": "stream",
     "text": [
      "Corriendo el experimento one-to-rule (3/7)\n"
     ]
    },
    {
     "name": "stderr",
     "output_type": "stream",
     "text": [
      "instancias: 100%|██████████| 90/90 [1:59:47<00:00, 79.86s/it]\n",
      "instancias:   1%|▏         | 1/78 [00:00<00:07,  9.70it/s]"
     ]
    },
    {
     "name": "stdout",
     "output_type": "stream",
     "text": [
      "Corriendo el experimento identicos (4/7)\n"
     ]
    },
    {
     "name": "stderr",
     "output_type": "stream",
     "text": [
      "instancias:  23%|██▎       | 18/78 [01:10<09:15,  9.27s/it]"
     ]
    }
   ],
   "source": [
    "import os\n",
    "import numpy as np\n",
    "import pandas as pd\n",
    "\n",
    "from tqdm import tqdm\n",
    "\n",
    "rows = []\n",
    "\n",
    "for i, experimento in enumerate(experimentos):\n",
    "    print(\"Corriendo el experimento {0} ({1}/{2})\".format(experimento[\"dataset\"], i+1, len(experimentos)))\n",
    "    run_instance(rows, experimento[\"dataset\"], experimento[\"algoritmos\"])\n",
    "\n",
    "df_results = pd.DataFrame(rows, columns=[\"dataset\", \"algorithm\", \"time_ms\", \"instance\"])\n",
    "print(\"Finished!\")"
   ]
  },
  {
   "cell_type": "code",
   "execution_count": null,
   "metadata": {},
   "outputs": [],
   "source": [
    "df_results.to_csv(\"resultados.csv\")"
   ]
  },
  {
   "cell_type": "code",
   "execution_count": null,
   "metadata": {},
   "outputs": [],
   "source": []
  }
 ],
 "metadata": {
  "kernelspec": {
   "display_name": "Python 3",
   "language": "python",
   "name": "python3"
  },
  "language_info": {
   "codemirror_mode": {
    "name": "ipython",
    "version": 3
   },
   "file_extension": ".py",
   "mimetype": "text/x-python",
   "name": "python",
   "nbconvert_exporter": "python",
   "pygments_lexer": "ipython3",
   "version": "3.7.5"
  }
 },
 "nbformat": 4,
 "nbformat_minor": 4
}
